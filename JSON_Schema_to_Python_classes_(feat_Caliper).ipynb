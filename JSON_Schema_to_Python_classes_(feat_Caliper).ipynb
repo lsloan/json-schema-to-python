{
  "nbformat": 4,
  "nbformat_minor": 0,
  "metadata": {
    "colab": {
      "provenance": [],
      "authorship_tag": "ABX9TyN0PxAwBu6Q6w/umwh4gjsw",
      "include_colab_link": true
    },
    "kernelspec": {
      "name": "python3",
      "display_name": "Python 3"
    },
    "language_info": {
      "name": "python"
    }
  },
  "cells": [
    {
      "cell_type": "markdown",
      "metadata": {
        "id": "view-in-github",
        "colab_type": "text"
      },
      "source": [
        "<a href=\"https://colab.research.google.com/github/lsloan/json-schema-to-python/blob/master/JSON_Schema_to_Python_classes_(feat_Caliper).ipynb\" target=\"_parent\"><img src=\"https://colab.research.google.com/assets/colab-badge.svg\" alt=\"Open In Colab\"/></a>"
      ]
    },
    {
      "cell_type": "markdown",
      "source": [
        "This is an experiment to generate code from JSON schemata that can be used to generate JSON which complies with the initial schemata.  The goal is to use as little domain-specific code as possible.  General JSON schema tools can generate the code that represents the objects to be encoded in JSON.  A small amount of additional code may be added to facilitate that encoding.\n",
        "\n",
        "Primary resources:\n",
        "\n",
        "* [datamodel-code-generator](https://github.com/koxudaxi/datamodel-code-generator) — \"This code generator creates pydantic v1 and v2 model, dataclasses.dataclass and typing.TypedDict from an openapi file and others.\"\n",
        "* [caliper-spec JSON schemata](https://github.com/1EdTech/caliper-spec/tree/60f7cb7/json_schema/schema_1_1) — A set of JSON schemata for a publicly available standard.\n",
        "* jsonschema\n",
        "* check-jsonschema\n"
      ],
      "metadata": {
        "id": "lP5OBS1Nz6FI"
      }
    },
    {
      "cell_type": "markdown",
      "source": [
        "# JSON Schema to Python classes (feat. Caliper)"
      ],
      "metadata": {
        "id": "G_PuOzKR3vEL"
      }
    },
    {
      "cell_type": "markdown",
      "source": [
        "## Initialize"
      ],
      "metadata": {
        "id": "-e6ZjksDm-VE"
      }
    },
    {
      "cell_type": "code",
      "execution_count": null,
      "metadata": {
        "id": "WcPZgbebgJzt"
      },
      "outputs": [],
      "source": [
        "%reload_ext autoreload\n",
        "%autoreload all --print\n",
        "\n",
        "# Install datamodel-code-generator to process JSON schemata\n",
        "# Install newer pydantic (v2); Colab comes with v1\n",
        "%pip install -Uq \\\n",
        "  datamodel-code-generator[http]==0.22.0 \\\n",
        "  pydantic==2.4.2 \\\n",
        "  jsonschema==4.19.1 \\\n",
        "  check-jsonschema==0.27.0\n",
        "\n",
        "# Get a set of JSON schemata, cloned from a GitHub repo\n",
        "!test -d caliper-spec || \\\n",
        "  git clone -b json_schema https://github.com/1EdTech/caliper-spec.git\n",
        "\n",
        "# Install jq if it's not already available, for editing JSON schemata\n",
        "# Note: `apt` couldn't get jq-1.7, only jq-1.6\n",
        "# !jq -V > /dev/null 2>&1 || apt install jq\n",
        "!jq -V > /dev/null 2>&1 || \\\n",
        "  (wget -O jq https://github.com/jqlang/jq/releases/download/jq-1.7/jq-linux-i386 && \\\n",
        "  chmod +x jq && mv jq /usr/local/bin)"
      ]
    },
    {
      "cell_type": "markdown",
      "source": [
        "## Clean up JSON schemata"
      ],
      "metadata": {
        "id": "xZnqJnFbnKAN"
      }
    },
    {
      "cell_type": "markdown",
      "source": [
        "The JSON schemata chosen are a work in progress.  They need some changes to make them usable for this purpose.  The changes made here should not be specific to this experiment and will likely be contributed back to the schemata maintainers.\n",
        "\n",
        "Changes include…\n",
        "* Append `.json` to URIs in `$ref` properties. (Completed)  \n",
        "  The schemata refer to each other and are contained in files with a `.json` extension on their names.  However, the references don't include that extension.\n",
        "* Remove unnecessary regular expressions. (Work in progress)  \n",
        "  Regular expressions were used throughout the schemata in `pattern` properties.  In most cases, the regular experssions are of the format `^…static text…$`.  Those could be expressed more easily as `const` properties instead, with the regular expression symbols removed."
      ],
      "metadata": {
        "id": "mrzLGAZc4eW4"
      }
    },
    {
      "cell_type": "code",
      "source": [
        "# Modify each JSON schema file and save a new copy\n",
        "# * Add \".json\" to \"$ref\" properties\n",
        "!mkdir -p /content/schema; \\\n",
        "  cd /content/caliper-spec/json_schema/schema_1_1; \\\n",
        "  for f in *.json; do \\\n",
        "    cat $f | jq '(.. | objects.\"$ref\" | strings) |= \\\n",
        "        sub(\"(?<hashOrEol>#|$)\"; \".json\\(.hashOrEol)\")' \\\n",
        "    > /content/schema/$f; \\\n",
        "  done\n",
        "\n",
        "# TODO: Also fix required `type` properties and other unnecessary regexes"
      ],
      "metadata": {
        "id": "ru2LyQqpJZE-"
      },
      "execution_count": 2,
      "outputs": []
    },
    {
      "cell_type": "markdown",
      "source": [
        "## Generate model classes from schemata"
      ],
      "metadata": {
        "id": "jQqjL63tnbDR"
      }
    },
    {
      "cell_type": "markdown",
      "source": [
        "Attempts to build the classes from remote schema…\n",
        "\n",
        "```\n",
        "datamodel-codegen --debug \\\n",
        "--url https://raw.githubusercontent.com/1EdTech/caliper-spec/json_schema/json_schema/schema_1_1/Entity.json \\\n",
        "\\--output generatedModel.py\n",
        "```\n",
        "\n",
        "…fails with the message, `TypeError: keywords must be strings`"
      ],
      "metadata": {
        "id": "FKgZ0feJDyyQ"
      }
    },
    {
      "cell_type": "code",
      "source": [
        "!datamodel-codegen \\\n",
        "  --input-file-type jsonschema \\\n",
        "  --use-title-as-name \\\n",
        "  --output-model-type pydantic_v2.BaseModel \\\n",
        "  --input schema/Agent.json \\\n",
        "  --output generatedModel.py\n",
        "#  --use-one-literal-as-default \\\n",
        "#   --input schema/Event.json \\\n",
        "\n",
        "# Without `--use-title-as-name` datamodel-codegen sometimes drops the last\n",
        "# character of class names\n",
        "\n",
        "%ls -l generatedModel.py"
      ],
      "metadata": {
        "colab": {
          "base_uri": "https://localhost:8080/"
        },
        "id": "DNWrURssgX5Y",
        "outputId": "bf2bb2d8-cca5-4c36-8ad2-6b35d90cd32e"
      },
      "execution_count": 3,
      "outputs": [
        {
          "output_type": "stream",
          "name": "stdout",
          "text": [
            "-rw-r--r-- 1 root root 1962 Sep 29 16:30 generatedModel.py\n"
          ]
        }
      ]
    },
    {
      "cell_type": "markdown",
      "source": [
        "## Use the generated classes"
      ],
      "metadata": {
        "id": "v19S9QoHD8XM"
      }
    },
    {
      "cell_type": "code",
      "source": [
        "from pydantic import ValidationError\n",
        "import generatedModel as genmo\n",
        "\n",
        "try:\n",
        "    # m = genmo.Agent(id='123', name='Bond', field_context='007', type='SecretAgent')\n",
        "    # m = genmo.Agent(id='123', name='Bond', context='http://purl.imsglobal.org/ctx/caliper/v1p1')\n",
        "    m = genmo.Agent(id='123', name='Bond', type='Agent')\n",
        "    print(m)\n",
        "except ValidationError as v:\n",
        "    print(v)\n",
        "\n",
        "# TODO: Modify schema to automatically use correct type\n",
        "\n",
        "# print(30 * '- ')\n",
        "\n",
        "# m = genmo.Agent(id='123', name='Bond', field_context='007')\n",
        "# print(m)\n",
        "# m.type='SecretAgent'\n",
        "# print(m)\n"
      ],
      "metadata": {
        "colab": {
          "base_uri": "https://localhost:8080/"
        },
        "id": "RemiPfWjUmcg",
        "outputId": "4b46b37f-8e2f-46db-f828-c772a33a29b2"
      },
      "execution_count": 4,
      "outputs": [
        {
          "output_type": "stream",
          "name": "stdout",
          "text": [
            "extensions=None id='123' dateCreated=None dateModified=None description=None name='Bond' type='Agent' field_context=None\n"
          ]
        }
      ]
    },
    {
      "cell_type": "markdown",
      "source": [
        "## Serialize instantiated objects to JSON"
      ],
      "metadata": {
        "id": "E8w_LQFPqKgB"
      }
    },
    {
      "cell_type": "code",
      "source": [
        "# FIXME: @context is not set\n",
        "print(m.model_dump_json())\n",
        "print(m.model_dump_json(exclude_unset=True))\n",
        "print(m.model_dump_json(exclude_none=True))\n",
        "print(m.model_dump_json(exclude_defaults=False))"
      ],
      "metadata": {
        "colab": {
          "base_uri": "https://localhost:8080/"
        },
        "id": "gBp8lw2UkjJ3",
        "outputId": "f9e4ef2f-075e-409c-ce71-d86842231962"
      },
      "execution_count": 5,
      "outputs": [
        {
          "output_type": "stream",
          "name": "stdout",
          "text": [
            "{\"extensions\":null,\"id\":\"123\",\"dateCreated\":null,\"dateModified\":null,\"description\":null,\"name\":\"Bond\",\"type\":\"Agent\",\"field_context\":null}\n",
            "{\"id\":\"123\",\"name\":\"Bond\",\"type\":\"Agent\"}\n",
            "{\"id\":\"123\",\"name\":\"Bond\",\"type\":\"Agent\"}\n",
            "{\"extensions\":null,\"id\":\"123\",\"dateCreated\":null,\"dateModified\":null,\"description\":null,\"name\":\"Bond\",\"type\":\"Agent\",\"field_context\":null}\n"
          ]
        }
      ]
    },
    {
      "cell_type": "markdown",
      "source": [
        "## Validate the JSON"
      ],
      "metadata": {
        "id": "7Xpb7YzwQ0wH"
      }
    },
    {
      "cell_type": "markdown",
      "source": [
        "### Programmatic validation\n",
        "\n",
        "Calling the validator this way fails.  It's unable to open the other files referenced in each `$ref` property.  It claims the URI is incorrect.  Prefixing `file://` to the bare URI doesn't seem to help."
      ],
      "metadata": {
        "id": "4Wn8_2oLioyR"
      }
    },
    {
      "cell_type": "code",
      "source": [
        "from os import chdir\n",
        "import json\n",
        "from jsonschema import validate\n",
        "\n",
        "try:\n",
        "    chdir('/content/schema')\n",
        "    schema = json.load(open('Agent.json'))\n",
        "    validate(instance=m.model_dump(), schema=schema)\n",
        "    # validator unable to open \"$ref\" files; URI is incorrect?\n",
        "except Exception as e:\n",
        "    print('Error!')\n",
        "    print(e)"
      ],
      "metadata": {
        "id": "BG0TQT9xQ3tE",
        "colab": {
          "base_uri": "https://localhost:8080/"
        },
        "outputId": "148f513a-9695-47dc-e3d4-a693f449587c"
      },
      "execution_count": 6,
      "outputs": [
        {
          "output_type": "stream",
          "name": "stdout",
          "text": [
            "Error!\n",
            "Unresolvable: CaliperTypeDefinitions.json#/extensions\n"
          ]
        }
      ]
    },
    {
      "cell_type": "markdown",
      "source": [
        "### CLI validation\n",
        "\n",
        "This CLI validator uses the programmatic validator mentioned above, yet this works.  Find out why.\n",
        "\n",
        "Find out whether `check-jsonschema` can be called programmatically.\n",
        "\n",
        "If `null` values are included, the validator reports `None is not of type 'object'`, `None is not of type 'string'`, etc.\n",
        "\n",
        "Input is provided by process substitution because `check-jsonschema` doesn't support STDIN.  (Yet.  I'm working on it.)\n",
        "\n"
      ],
      "metadata": {
        "id": "904A6xujitJd"
      }
    },
    {
      "cell_type": "code",
      "source": [
        "!check-jsonschema --schemafile /content/schema/Agent.json <(printf '{m.model_dump_json(exclude_none=True)}')"
      ],
      "metadata": {
        "colab": {
          "base_uri": "https://localhost:8080/"
        },
        "id": "hdeWl2mCY1XQ",
        "outputId": "80444374-0a52-4ca8-ea0f-a195c166d2cf"
      },
      "execution_count": 7,
      "outputs": [
        {
          "output_type": "stream",
          "name": "stdout",
          "text": [
            "\u001b[32mok\u001b[0m -- validation done\n"
          ]
        }
      ]
    }
  ]
}